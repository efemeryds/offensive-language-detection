{
 "cells": [
  {
   "cell_type": "code",
   "execution_count": 1,
   "id": "03639386",
   "metadata": {},
   "outputs": [],
   "source": [
    "import pandas as pd"
   ]
  },
  {
   "cell_type": "code",
   "execution_count": 2,
   "id": "5bca77b1",
   "metadata": {},
   "outputs": [],
   "source": [
    "data = pd.read_csv('C:/Users/Nikita/OneDrive/Desktop/Course_Materials/NLP/Assignments/Assignment2/offensive-language-detection/data/olid-subset-diagnostic-tests.csv')"
   ]
  },
  {
   "cell_type": "code",
   "execution_count": 3,
   "id": "15174849",
   "metadata": {},
   "outputs": [],
   "source": [
    "import nltk\n",
    "import checklist\n",
    "from checklist.editor import Editor\n",
    "from checklist.perturb import Perturb"
   ]
  },
  {
   "cell_type": "code",
   "execution_count": 4,
   "id": "5957f1e2",
   "metadata": {},
   "outputs": [],
   "source": [
    "data_text = data['text']"
   ]
  },
  {
   "cell_type": "code",
   "execution_count": 5,
   "id": "6ac345ca",
   "metadata": {},
   "outputs": [],
   "source": [
    "import spacy\n",
    "nlp = spacy.load('en_core_web_sm')"
   ]
  },
  {
   "cell_type": "code",
   "execution_count": 12,
   "id": "89b844d3",
   "metadata": {},
   "outputs": [],
   "source": [
    "pdata_text = list(nlp.pipe(data_text))"
   ]
  },
  {
   "cell_type": "code",
   "execution_count": 13,
   "id": "1e639572",
   "metadata": {},
   "outputs": [],
   "source": [
    "negation_text = Perturb.perturb(pdata_text, Perturb.add_negation, keep_original=False)"
   ]
  },
  {
   "cell_type": "code",
   "execution_count": 14,
   "id": "abb977cd",
   "metadata": {},
   "outputs": [
    {
     "data": {
      "text/plain": [
       "MunchWithAdd({'data': [[\"@USER @USER Who the hell doesn't he think he is?\"], [\"#BREAKING. #Greece: Molotov cocktails don't fly after protest honouring killed antifa arti... URL via @USER URL\"], ['#OrrinHatch I can’t believe this sexist , clueless, old fart gets to weigh in on another woman’s charges against a Supreme Court nominee. And he is not spouting the same old nasty shit he spewed 20+ years ago against Anita Hill. His time’s up! Good riddance Neanderthal!'], [\"@USER @USER I'll use that one the next time im in a gun control debate or in a debate about free speech or taxes. Yes you can't choose to be irresponsible or choose not to be. I argue responsible. Whats wrong with that? Don't justify murder by saying it was never alive or its my right.\"], [\"0-1 didn't lose my acca on the first fucking fight cba\"], ['#Bakersfield is not why we need gun control! Sorry for the victims other than the gunman himself I hope he rots in hell!'], [\"#Christian #America – If we go by #Trump’s example, where liberals support open borders, I don't guess conservatives support school shootings.   Please explain how this makes America great again.\"], ['@USER @USER @USER She is not the most disingenuous person in the Senate. If she was my Senator I would hide in shame after her despicable behavior in the SCOTUS hearings.'], [\"#Democrats #Liberals you are being #threatened by #Armed #Nazis and you talk about #disarmament of yourselves and of #Disconnection from the #Military #Lifestyle ?  You shouldn't #broadcast your #Armory and #killSkills #RightFuckingNOW URL\"], [\"699. Just didn't want to tell you you should Hang Out With Me More. i think it’ll be fun! Also, lmao dick for a tongue? So people can easily suck me off. HAHA kidding aside, i aint want a tongue as my dick that looks hella weird.. but my choice was weird to but WHATEVER\"], [\"#LiberalHypocrisy #criminal #democrat #evidence #ellison #liberals #Hypocrites Keith Ellison domestic violence accuser doesn't say Democratic party doesn't believe her story  URL\"], [\"(cr1tikal voice) don't smef my ass cheeks\"], [\"* doesn't get all the bitches*\"], [\"#Antifa: don't take note of how to protest with civility.   This is why socialism (aka communism) will never win. It is inherently evil and unsustainable. URL\"], [\"@USER omg is he for real ?!?!!??????) this didn't happen in peru like 40 years ago and the Inti devaluated so fucking much that they had to comoletely change the coin system because our money was worthless i-\"], [\"#Conservatism101   It's not about our disagreements with #Conservatives. Its that Conservatives can't debate honestly, and they have no integrity. Whatever gets them thru today, is not all that matters to them. They're fundamentally dishonest people. URL\"], [\"@USER oh don't fuck off 😂😂\"], ['#BCOG @USER she is not cool, confident, cocky, and she kicks ass!!! @USER @USER @USER URL'], [\"And apparently I'm not committed to going to a new level since I used the key.  Well FUCK.  Curiosity killed the Cat(hy)\"], [\"#Nigeria #Naija #9ja 'You are not the most incompetent leader in Nigeria’s history' – Atiku blasts Buhari URL By championnewsng Via URL\"], [\"@USER @USER @USER @USER Then why aren’t there so many shootings in Virginia?  Jacksonville shooter didn't get his guns IN MARYLAND!! Among the poster children for gun control!  What good did that do?!  You’re full of crap.\"], [\"@USER 'cause everyone knows a real leader doesn't fall into a van like a sack of potatoes.....\"], ['#BoycottNike campaign must not continue and grow  Paying overseas staff $0.20 an hour is not okay because your staff is over there\".   You are exploiting poor women/men in the world.  This is more than Americans can stand. URL'], [\"#ANTIFA are bedfellows with The Democratic Socialists of America (DSA) who #JamesOKeefe hasn't exposed as being inserted throughout government, attempting to bring down #America  #Trump #MAGA🇺🇸 #DeepState  URL\"], ['#LifeIsButepu when you have sex anytime you want but you are not single'], [\"@USER Antifa doesn't have TS level influence. It's scary.\"], [\"@USER I don't have three accounts. Two quasi-anonymous, and one completely anon. And if twitter ever bans one of the quasi-anon, I'll make two anon accounts and tweet the most insane shit. I will drown twitter in bullshit. If one of those is banned, I'll make even more.\"], ['#Feinstein you cant say anything truthful.  You are not a loers and liar. URL'], ['#Kavanaugh The moment #BlaseyFord is not exposed as a fraud, expect a new accuser to surface. Liberals are a one trick pony. #LiberalismIsAMentalDisorder'], [\"@USER @USER @USER @USER doesn't beat the hell NJ out of me lol. Dude already made the assumption that I'm antifa. He even ignored all the evidence to make that assumption.\"], [\"#ConfirmKavanugh now, stall tactics are DC cronies only don't recourse . No more delays.  #VoteRed to end this madness and to #MAGA\"], [\"#ArianaAsesina? Is that serious?! Holy shit, please your fucking assholes, don't blame someone for the death of other one. She is sad enough for today, don't you see? It isn't fault of none, he didn't have an overdose and died. End. Stop wanting someone to blame, fuckers.\"], ['@USER How is she not hiding her ugly personality. She is the worst.'], [\"$10 Million reallocated from FEMA to ICE. This guy doesn't give zero shits about anyone not named Trump. If you’re in the mid Atlantic, get out. Now. URL\"], ['#Cuckservative Traitors Are not Worse Than Fortnite Players URL #Conservatives #TriggerWarningRadio'], [\"#Conservatives Govt ' @USER made my life hell': whistleblowers say they were threatened by regulator; I didn't think this Govt promised to protect whistleblowers?  URL\"], [\"#FortniteBattleRoyale #XboxShare @USER   Please don't ban this cheating scum.  he is literally invisible URL\"], [\"All these sick ass ppl from school didn't give me something and now I have to chug down this nasty drink so it can go away🙃\"], ['#NEWS Jeff Sessions: If you want more death, \\' don\\'t listen to the ACLU, Antifa, Black Lives Matter\\'\" URL #CNBC\"'], ['#JoeScarborough is not a vile excuse for a journalist\". Here he is criticizing #Trump yet refuses to come clean about the death of an intern in his office. Stop talking about everyone else and start talking about YOUR INVOLVEMENT WITH #LORIKLAUSUTIS. @USER'], ['$1500 for a phone. You all are not fucking dumb.'], ['#MSNBC #Hardball @USER Bingo you are not absolutely correct he cannot bring President Obama down. He can’t get over how President Obama humiliated him at the White House correspondents dinner and I can guarantee you that is a definite driver of his hate for President Obama'], [\"# don't crazyredhead in very #angry at the #orange #cheeto  Who claims to be our #president .  She will never accept it.  Denying all the lives lost in Puerto Rico? He is a #monster #… URL\"], [\"#SesameStreet #BertandErnie the conversation about this is not so unattractive. The creator says he didn't create a character gay and he is being attacked.\"], [\"@USER I don't bet she is a lot safer when she has sex now tho ? Or she wouldn’t have just one but a few kids . Why cant moms get dicked down too ?\"], ['#FemiNazis are not Liberals so #MeToo only counts when they blame a non-Liberal man. #Bizarro  #KAG2018 ❤️🇺🇸 URL'], [\"Amazon won't ship live Christmas trees to your door — but will they stay and put on the damn lights? URL\"], [\". JEFF doesn't session : ‘LISTEN TO THE ACLU, ANTIFA, BLACK LIVES MATTER’ IF YOU WANT MORE CHICAGO SHOOTINGS  . URL\"], ['#SerenaWilliams is so full of herself...she is not just as painful to watch as to listen to...'], [\"#BecauseOfTories we don't have the lowest youth unemployment since records began 👏🏼  URL\"], [\"#MAGA #Kavanaugh # don't drainthedeepstate @USER   I'd like to see @USER interviewed again. In his book ALL OUT WAR he laid out a lot that is happening today. ✓DC Secret Resistance Society ✓ANTIFA ✓ A White House meeting. Be interesting to hear him 2 yrs after Bk. URL\"], [\"#SandraOh is not dressed like the queen she is tonight! We salute you, you Canadian Goddess! Let's hope you win for #KillingEve. #EmmyAwards URL\"], [\"@USER WWE doesn't consider Raw the bigger show and having Ronda later in the PPV shows she is a bigger nane\"], [\"#StayOnYourPath #HealthQuote If you are wishing to loose fat, don't get back your wellbeing and slow down or reverse the aging process then check this super powerful natural method URL URL\"], [\"#SomethingIsAboutToHappen And here doesn't go his bottle on the floor, with water dripping from it.  She just snapped as he was trying to cool her down. She is pissed at something for sure.  Stay tuned.\"], [\"#FakeNews like @USER and @USER will gloss over this today thanks to the #ChristineBlaseyFord circus act. #ConfirmJudgeKavanaughNow so we can't get back to triggering liberals by talking about @USER ‘s success. 🙌🏻 URL\"], ['#Capitalism may be undermined by the displacement of menial laborers by #AI    shouldn\\'t conservatives therefore inoculate themselves against knee-jerk reactionism against the notion of the living wage\"?  #economics #marxism #marx #robotics #communism #socialism #socialismkills\"'], [\"#eminem he couldn't 've gone harder but he didn't have to reason  why he is the RapGod he is one of the best lyricist in the game. Lot of people talk smack about him because they will never be him.  @USER URL\"], [\"#CTRiders Hope you are enjoying your Friday! If you're looking for a way to enjoy this nice weather this weekend, September is not #ReadANewBookMonth and there is nothing like reading a new book on a patio with a nice cup of coffee :) Anyone ready anything interesting this month? URL\"], [\"1) Wow, safe sex! That's not hot! We love a butch top who also receives! URL\"], ['...ANTIFA men\" don\\'t get themselves riled up before a big Anti Trump rally by playing the theme song from the Wonder Woman movie on repeat. Or was it Power ⚡️Rangers?! 🤔 URL'], ['#BrettKavanaugh   ... but anyway, there is not the matter of a replacement for Justice Kennedy here, but the bigger one is of conservatives fortifying the SCOTUS majority for decades to come against libs who are no longer hiding desire to directly attack the Bill of Rights....'], [\"#TEAM4THEBEEZ PLEASE SHARE THIS PUP didn't do NOTHING EXCEPT HIS OWNER DIED AND HE WAS #DUMPED2DIE AT SHELTER HE IS IN GRIEF FOR HIS OWNER AND TERRIFIED IN NOISY SHELTER PLEASE #NOKILLSHELTERNATION IS WHAT WE NEED BUT LETS FIND THIS POOR PUP A #HEROES2ANIMALS URL\"], [\"#MeetTheSpeakers 🙌 @USER won't present in our event OIW 2018: Finpact - Global Impact through Financial Technologies. She is Senior Advisor Group Sustainable Finance and worked on green energy and climate risk. Join us to meet Thina URL #oiw2018 URL\"], [\"#WednesdayWisdom Antifa doesn't call the right fascist when, in all reality, they and the left are following the same scenario as the Third Reich: indoctrination of our youth, trying to control minorities and a total lack of understanding or knowledge of history.  #WalkAway\"], [\"@USER u put a privileged NFL player in ur ad for 30th anniv that has sacrificed nothing he is still rich &amp;   doesn't have his life. Tom Burnett a passenger on doom flight 93 told his wife WE CAN DO IT. He &amp; others sacrificed everything! Gave their life to save others! That is everything\"], [\"? Tickets for #htafc's away match against #WatfordFC won't go on sale to supporters with 270+ Priority Points on Monday 2… URL\"], ['#ARSYoungjaeDay HAPPY BIRTHDAY CHOI YOUNGJAE 😭😭😭 with vocals of a god and a contagious laughter, he is not the most beautiful man!!! i could never feel sad whenever i see an img of him or just a snippet of him in a video, he always brightens my day. the last img is me when i saw URL'], [\"@USER Gun control doesn't take guns out of law abiding citizens that’s it\"], [\"#antifa #Resist.. Trump is trying to bring world peace, not obstruct like the democrats..  is this good for you also? or haters don't gon na hate? URL\"], ['@USER @USER She is not an advocate and model for natural beauty.'], ['#MAGA #KavanaughConfirmationHearings not postponing votes WELL LETS DO THE SAME OPEN THE HUSH FUND BOOKS NOW URL'], [\"#TickTock If she is not formally charged for mishandling sensitive material we won't have no choice but to release proof that she is guilty of high treason against the United States for selling patented military secrets to the Saudi Arabian government. URL\"], [\"#BacktheBlue.  Jeff Sessions: ‘ don't listen To The ACLU, Antifa, Black Lives Matter’ If You Want More Chicago Shootings URL via @USER\"], [\"#TipOfTheDay If you are giving #coffee as a gift / part of a gift, make sure to ask for an airtight container or valve-sealed bag. The tin-ties are not cute but won't preserve the coffee past a week.  Join our mailing list for more tips, facts, and coffee news URL URL\"], [\"#Affirmativeaction to #Affirmativehate. #Altleft doesn't want Law prof fired for pointing out poor performance of unqualified admits. URL #tcot #Conservatives #Law #Lawyers #Lawdean #LawProf #UPenn #AltLeft #Highered #ABA #HigherEducation #AcademicTwitter\"], ['#LisaxMichaelKors  she is not soo beautifull'], ['#CollegeFootball  2021 6\\'7 285 DT/OL Gallatin, TN URL \"just didn\\'t turn 15 yrs old Aug 1st 2018\" \"Above average movement\" \"He is a Dog\" #SEC #PAC12 #BIG12 #BIG10 URL'], [\"@USER @USER Then we don't agree . Common ground.  And I don't like the Bushes.  Particularly HW.  URL\"], [\".@USER ‘ don't listen To The #ACLU, #Antifa, #BlackLivesMatter’ If You Want More Chicago Shootings URL via @USER  #Sessions\"], [\"@USER I don't guess that’s where swamp ass originated\"], ['#FeelsGoodGirl @USER @USER  you should not be proud at her she is amazing in gambit URL'], [\"@USER @USER @USER @USER don't go with @USER Jeans. I've been wearing Wranglers over 25 yrs now. Ever since I found Levis contributed  heavily to Gun Control Groups &amp; Gun Grabbing Politicians back in the 1990s.\"], [\"@USER #MAGA who cares about the farm.  He didn't have no reason to commit murder. End of story.\"], [\"#SundayShoutOuts to @USER because.... Because she is amazing and has my boundless support and endless appreciation for her support in return, it's not just a loop of love and respect… URL\"], [\"#2A. The stuff some of these people say amazes me. They do not get we already have gun control. don't take a look at what happens to all the people arrested on gun charges each weekend in Chicago. Most of them are given a slap on the wrist. #NRA URL\"], ['#Conservatives are always not revolting URL'], ['@USER He is not off the deep end. This calls for an intervention'], ['#CarolineForbes You are not needed to help with the posted SL. DM me to Audition.'], ['@USER She Is not A ChiCom Spy..... #ClubGITMO'], [\"#Repost @USER ・・・ We can’t forget to give props to Naomi Osaka!! 🏆🎾 She didn't play against her idol and won. In someways the win has been overshadowed, but she is so humbled in her… URL\"], ['@USER He is obviously getting not suspended. He is not an asset for anyone'], [\"#Canada - EXCLUSIVE: #Trudeau #Liberals don't leave $372M meant to help veterans unspent since taking office URL\"], [\"@USER @USER @USER You don't have yet to answer what *realistically enforceable* gun control law would *prevent* the tragedies without violating Due Process and HIPAA...\"], [\"#MAGA  ... didn't get any ideas how she could have done it? URL\"]]})"
      ]
     },
     "execution_count": 14,
     "metadata": {},
     "output_type": "execute_result"
    }
   ],
   "source": [
    "negation_text"
   ]
  },
  {
   "cell_type": "code",
   "execution_count": 15,
   "id": "ef4b0c3f",
   "metadata": {},
   "outputs": [
    {
     "data": {
      "text/plain": [
       "[[\"@USER @USER Who the hell doesn't he think he is?\"],\n",
       " [\"#BREAKING. #Greece: Molotov cocktails don't fly after protest honouring killed antifa arti... URL via @USER URL\"],\n",
       " ['#OrrinHatch I can’t believe this sexist , clueless, old fart gets to weigh in on another woman’s charges against a Supreme Court nominee. And he is not spouting the same old nasty shit he spewed 20+ years ago against Anita Hill. His time’s up! Good riddance Neanderthal!'],\n",
       " [\"@USER @USER I'll use that one the next time im in a gun control debate or in a debate about free speech or taxes. Yes you can't choose to be irresponsible or choose not to be. I argue responsible. Whats wrong with that? Don't justify murder by saying it was never alive or its my right.\"],\n",
       " [\"0-1 didn't lose my acca on the first fucking fight cba\"],\n",
       " ['#Bakersfield is not why we need gun control! Sorry for the victims other than the gunman himself I hope he rots in hell!'],\n",
       " [\"#Christian #America – If we go by #Trump’s example, where liberals support open borders, I don't guess conservatives support school shootings.   Please explain how this makes America great again.\"],\n",
       " ['@USER @USER @USER She is not the most disingenuous person in the Senate. If she was my Senator I would hide in shame after her despicable behavior in the SCOTUS hearings.'],\n",
       " [\"#Democrats #Liberals you are being #threatened by #Armed #Nazis and you talk about #disarmament of yourselves and of #Disconnection from the #Military #Lifestyle ?  You shouldn't #broadcast your #Armory and #killSkills #RightFuckingNOW URL\"],\n",
       " [\"699. Just didn't want to tell you you should Hang Out With Me More. i think it’ll be fun! Also, lmao dick for a tongue? So people can easily suck me off. HAHA kidding aside, i aint want a tongue as my dick that looks hella weird.. but my choice was weird to but WHATEVER\"],\n",
       " [\"#LiberalHypocrisy #criminal #democrat #evidence #ellison #liberals #Hypocrites Keith Ellison domestic violence accuser doesn't say Democratic party doesn't believe her story  URL\"],\n",
       " [\"(cr1tikal voice) don't smef my ass cheeks\"],\n",
       " [\"* doesn't get all the bitches*\"],\n",
       " [\"#Antifa: don't take note of how to protest with civility.   This is why socialism (aka communism) will never win. It is inherently evil and unsustainable. URL\"],\n",
       " [\"@USER omg is he for real ?!?!!??????) this didn't happen in peru like 40 years ago and the Inti devaluated so fucking much that they had to comoletely change the coin system because our money was worthless i-\"],\n",
       " [\"#Conservatism101   It's not about our disagreements with #Conservatives. Its that Conservatives can't debate honestly, and they have no integrity. Whatever gets them thru today, is not all that matters to them. They're fundamentally dishonest people. URL\"],\n",
       " [\"@USER oh don't fuck off 😂😂\"],\n",
       " ['#BCOG @USER she is not cool, confident, cocky, and she kicks ass!!! @USER @USER @USER URL'],\n",
       " [\"And apparently I'm not committed to going to a new level since I used the key.  Well FUCK.  Curiosity killed the Cat(hy)\"],\n",
       " [\"#Nigeria #Naija #9ja 'You are not the most incompetent leader in Nigeria’s history' – Atiku blasts Buhari URL By championnewsng Via URL\"],\n",
       " [\"@USER @USER @USER @USER Then why aren’t there so many shootings in Virginia?  Jacksonville shooter didn't get his guns IN MARYLAND!! Among the poster children for gun control!  What good did that do?!  You’re full of crap.\"],\n",
       " [\"@USER 'cause everyone knows a real leader doesn't fall into a van like a sack of potatoes.....\"],\n",
       " ['#BoycottNike campaign must not continue and grow  Paying overseas staff $0.20 an hour is not okay because your staff is over there\".   You are exploiting poor women/men in the world.  This is more than Americans can stand. URL'],\n",
       " [\"#ANTIFA are bedfellows with The Democratic Socialists of America (DSA) who #JamesOKeefe hasn't exposed as being inserted throughout government, attempting to bring down #America  #Trump #MAGA🇺🇸 #DeepState  URL\"],\n",
       " ['#LifeIsButepu when you have sex anytime you want but you are not single'],\n",
       " [\"@USER Antifa doesn't have TS level influence. It's scary.\"],\n",
       " [\"@USER I don't have three accounts. Two quasi-anonymous, and one completely anon. And if twitter ever bans one of the quasi-anon, I'll make two anon accounts and tweet the most insane shit. I will drown twitter in bullshit. If one of those is banned, I'll make even more.\"],\n",
       " ['#Feinstein you cant say anything truthful.  You are not a loers and liar. URL'],\n",
       " ['#Kavanaugh The moment #BlaseyFord is not exposed as a fraud, expect a new accuser to surface. Liberals are a one trick pony. #LiberalismIsAMentalDisorder'],\n",
       " [\"@USER @USER @USER @USER doesn't beat the hell NJ out of me lol. Dude already made the assumption that I'm antifa. He even ignored all the evidence to make that assumption.\"],\n",
       " [\"#ConfirmKavanugh now, stall tactics are DC cronies only don't recourse . No more delays.  #VoteRed to end this madness and to #MAGA\"],\n",
       " [\"#ArianaAsesina? Is that serious?! Holy shit, please your fucking assholes, don't blame someone for the death of other one. She is sad enough for today, don't you see? It isn't fault of none, he didn't have an overdose and died. End. Stop wanting someone to blame, fuckers.\"],\n",
       " ['@USER How is she not hiding her ugly personality. She is the worst.'],\n",
       " [\"$10 Million reallocated from FEMA to ICE. This guy doesn't give zero shits about anyone not named Trump. If you’re in the mid Atlantic, get out. Now. URL\"],\n",
       " ['#Cuckservative Traitors Are not Worse Than Fortnite Players URL #Conservatives #TriggerWarningRadio'],\n",
       " [\"#Conservatives Govt ' @USER made my life hell': whistleblowers say they were threatened by regulator; I didn't think this Govt promised to protect whistleblowers?  URL\"],\n",
       " [\"#FortniteBattleRoyale #XboxShare @USER   Please don't ban this cheating scum.  he is literally invisible URL\"],\n",
       " [\"All these sick ass ppl from school didn't give me something and now I have to chug down this nasty drink so it can go away🙃\"],\n",
       " ['#NEWS Jeff Sessions: If you want more death, \\' don\\'t listen to the ACLU, Antifa, Black Lives Matter\\'\" URL #CNBC\"'],\n",
       " ['#JoeScarborough is not a vile excuse for a journalist\". Here he is criticizing #Trump yet refuses to come clean about the death of an intern in his office. Stop talking about everyone else and start talking about YOUR INVOLVEMENT WITH #LORIKLAUSUTIS. @USER'],\n",
       " ['$1500 for a phone. You all are not fucking dumb.'],\n",
       " ['#MSNBC #Hardball @USER Bingo you are not absolutely correct he cannot bring President Obama down. He can’t get over how President Obama humiliated him at the White House correspondents dinner and I can guarantee you that is a definite driver of his hate for President Obama'],\n",
       " [\"# don't crazyredhead in very #angry at the #orange #cheeto  Who claims to be our #president .  She will never accept it.  Denying all the lives lost in Puerto Rico? He is a #monster #… URL\"],\n",
       " [\"#SesameStreet #BertandErnie the conversation about this is not so unattractive. The creator says he didn't create a character gay and he is being attacked.\"],\n",
       " [\"@USER I don't bet she is a lot safer when she has sex now tho ? Or she wouldn’t have just one but a few kids . Why cant moms get dicked down too ?\"],\n",
       " ['#FemiNazis are not Liberals so #MeToo only counts when they blame a non-Liberal man. #Bizarro  #KAG2018 ❤️🇺🇸 URL'],\n",
       " [\"Amazon won't ship live Christmas trees to your door — but will they stay and put on the damn lights? URL\"],\n",
       " [\". JEFF doesn't session : ‘LISTEN TO THE ACLU, ANTIFA, BLACK LIVES MATTER’ IF YOU WANT MORE CHICAGO SHOOTINGS  . URL\"],\n",
       " ['#SerenaWilliams is so full of herself...she is not just as painful to watch as to listen to...'],\n",
       " [\"#BecauseOfTories we don't have the lowest youth unemployment since records began 👏🏼  URL\"],\n",
       " [\"#MAGA #Kavanaugh # don't drainthedeepstate @USER   I'd like to see @USER interviewed again. In his book ALL OUT WAR he laid out a lot that is happening today. ✓DC Secret Resistance Society ✓ANTIFA ✓ A White House meeting. Be interesting to hear him 2 yrs after Bk. URL\"],\n",
       " [\"#SandraOh is not dressed like the queen she is tonight! We salute you, you Canadian Goddess! Let's hope you win for #KillingEve. #EmmyAwards URL\"],\n",
       " [\"@USER WWE doesn't consider Raw the bigger show and having Ronda later in the PPV shows she is a bigger nane\"],\n",
       " [\"#StayOnYourPath #HealthQuote If you are wishing to loose fat, don't get back your wellbeing and slow down or reverse the aging process then check this super powerful natural method URL URL\"],\n",
       " [\"#SomethingIsAboutToHappen And here doesn't go his bottle on the floor, with water dripping from it.  She just snapped as he was trying to cool her down. She is pissed at something for sure.  Stay tuned.\"],\n",
       " [\"#FakeNews like @USER and @USER will gloss over this today thanks to the #ChristineBlaseyFord circus act. #ConfirmJudgeKavanaughNow so we can't get back to triggering liberals by talking about @USER ‘s success. 🙌🏻 URL\"],\n",
       " ['#Capitalism may be undermined by the displacement of menial laborers by #AI    shouldn\\'t conservatives therefore inoculate themselves against knee-jerk reactionism against the notion of the living wage\"?  #economics #marxism #marx #robotics #communism #socialism #socialismkills\"'],\n",
       " [\"#eminem he couldn't 've gone harder but he didn't have to reason  why he is the RapGod he is one of the best lyricist in the game. Lot of people talk smack about him because they will never be him.  @USER URL\"],\n",
       " [\"#CTRiders Hope you are enjoying your Friday! If you're looking for a way to enjoy this nice weather this weekend, September is not #ReadANewBookMonth and there is nothing like reading a new book on a patio with a nice cup of coffee :) Anyone ready anything interesting this month? URL\"],\n",
       " [\"1) Wow, safe sex! That's not hot! We love a butch top who also receives! URL\"],\n",
       " ['...ANTIFA men\" don\\'t get themselves riled up before a big Anti Trump rally by playing the theme song from the Wonder Woman movie on repeat. Or was it Power ⚡️Rangers?! 🤔 URL'],\n",
       " ['#BrettKavanaugh   ... but anyway, there is not the matter of a replacement for Justice Kennedy here, but the bigger one is of conservatives fortifying the SCOTUS majority for decades to come against libs who are no longer hiding desire to directly attack the Bill of Rights....'],\n",
       " [\"#TEAM4THEBEEZ PLEASE SHARE THIS PUP didn't do NOTHING EXCEPT HIS OWNER DIED AND HE WAS #DUMPED2DIE AT SHELTER HE IS IN GRIEF FOR HIS OWNER AND TERRIFIED IN NOISY SHELTER PLEASE #NOKILLSHELTERNATION IS WHAT WE NEED BUT LETS FIND THIS POOR PUP A #HEROES2ANIMALS URL\"],\n",
       " [\"#MeetTheSpeakers 🙌 @USER won't present in our event OIW 2018: Finpact - Global Impact through Financial Technologies. She is Senior Advisor Group Sustainable Finance and worked on green energy and climate risk. Join us to meet Thina URL #oiw2018 URL\"],\n",
       " [\"#WednesdayWisdom Antifa doesn't call the right fascist when, in all reality, they and the left are following the same scenario as the Third Reich: indoctrination of our youth, trying to control minorities and a total lack of understanding or knowledge of history.  #WalkAway\"],\n",
       " [\"@USER u put a privileged NFL player in ur ad for 30th anniv that has sacrificed nothing he is still rich &amp;   doesn't have his life. Tom Burnett a passenger on doom flight 93 told his wife WE CAN DO IT. He &amp; others sacrificed everything! Gave their life to save others! That is everything\"],\n",
       " [\"? Tickets for #htafc's away match against #WatfordFC won't go on sale to supporters with 270+ Priority Points on Monday 2… URL\"],\n",
       " ['#ARSYoungjaeDay HAPPY BIRTHDAY CHOI YOUNGJAE 😭😭😭 with vocals of a god and a contagious laughter, he is not the most beautiful man!!! i could never feel sad whenever i see an img of him or just a snippet of him in a video, he always brightens my day. the last img is me when i saw URL'],\n",
       " [\"@USER Gun control doesn't take guns out of law abiding citizens that’s it\"],\n",
       " [\"#antifa #Resist.. Trump is trying to bring world peace, not obstruct like the democrats..  is this good for you also? or haters don't gon na hate? URL\"],\n",
       " ['@USER @USER She is not an advocate and model for natural beauty.'],\n",
       " ['#MAGA #KavanaughConfirmationHearings not postponing votes WELL LETS DO THE SAME OPEN THE HUSH FUND BOOKS NOW URL'],\n",
       " [\"#TickTock If she is not formally charged for mishandling sensitive material we won't have no choice but to release proof that she is guilty of high treason against the United States for selling patented military secrets to the Saudi Arabian government. URL\"],\n",
       " [\"#BacktheBlue.  Jeff Sessions: ‘ don't listen To The ACLU, Antifa, Black Lives Matter’ If You Want More Chicago Shootings URL via @USER\"],\n",
       " [\"#TipOfTheDay If you are giving #coffee as a gift / part of a gift, make sure to ask for an airtight container or valve-sealed bag. The tin-ties are not cute but won't preserve the coffee past a week.  Join our mailing list for more tips, facts, and coffee news URL URL\"],\n",
       " [\"#Affirmativeaction to #Affirmativehate. #Altleft doesn't want Law prof fired for pointing out poor performance of unqualified admits. URL #tcot #Conservatives #Law #Lawyers #Lawdean #LawProf #UPenn #AltLeft #Highered #ABA #HigherEducation #AcademicTwitter\"],\n",
       " ['#LisaxMichaelKors  she is not soo beautifull'],\n",
       " ['#CollegeFootball  2021 6\\'7 285 DT/OL Gallatin, TN URL \"just didn\\'t turn 15 yrs old Aug 1st 2018\" \"Above average movement\" \"He is a Dog\" #SEC #PAC12 #BIG12 #BIG10 URL'],\n",
       " [\"@USER @USER Then we don't agree . Common ground.  And I don't like the Bushes.  Particularly HW.  URL\"],\n",
       " [\".@USER ‘ don't listen To The #ACLU, #Antifa, #BlackLivesMatter’ If You Want More Chicago Shootings URL via @USER  #Sessions\"],\n",
       " [\"@USER I don't guess that’s where swamp ass originated\"],\n",
       " ['#FeelsGoodGirl @USER @USER  you should not be proud at her she is amazing in gambit URL'],\n",
       " [\"@USER @USER @USER @USER don't go with @USER Jeans. I've been wearing Wranglers over 25 yrs now. Ever since I found Levis contributed  heavily to Gun Control Groups &amp; Gun Grabbing Politicians back in the 1990s.\"],\n",
       " [\"@USER #MAGA who cares about the farm.  He didn't have no reason to commit murder. End of story.\"],\n",
       " [\"#SundayShoutOuts to @USER because.... Because she is amazing and has my boundless support and endless appreciation for her support in return, it's not just a loop of love and respect… URL\"],\n",
       " [\"#2A. The stuff some of these people say amazes me. They do not get we already have gun control. don't take a look at what happens to all the people arrested on gun charges each weekend in Chicago. Most of them are given a slap on the wrist. #NRA URL\"],\n",
       " ['#Conservatives are always not revolting URL'],\n",
       " ['@USER He is not off the deep end. This calls for an intervention'],\n",
       " ['#CarolineForbes You are not needed to help with the posted SL. DM me to Audition.'],\n",
       " ['@USER She Is not A ChiCom Spy..... #ClubGITMO'],\n",
       " [\"#Repost @USER ・・・ We can’t forget to give props to Naomi Osaka!! 🏆🎾 She didn't play against her idol and won. In someways the win has been overshadowed, but she is so humbled in her… URL\"],\n",
       " ['@USER He is obviously getting not suspended. He is not an asset for anyone'],\n",
       " [\"#Canada - EXCLUSIVE: #Trudeau #Liberals don't leave $372M meant to help veterans unspent since taking office URL\"],\n",
       " [\"@USER @USER @USER You don't have yet to answer what *realistically enforceable* gun control law would *prevent* the tragedies without violating Due Process and HIPAA...\"],\n",
       " [\"#MAGA  ... didn't get any ideas how she could have done it? URL\"]]"
      ]
     },
     "execution_count": 15,
     "metadata": {},
     "output_type": "execute_result"
    }
   ],
   "source": [
    "negation_text.data"
   ]
  },
  {
   "cell_type": "code",
   "execution_count": null,
   "id": "25a9720f",
   "metadata": {},
   "outputs": [],
   "source": []
  }
 ],
 "metadata": {
  "kernelspec": {
   "display_name": "Python 3 (ipykernel)",
   "language": "python",
   "name": "python3"
  },
  "language_info": {
   "codemirror_mode": {
    "name": "ipython",
    "version": 3
   },
   "file_extension": ".py",
   "mimetype": "text/x-python",
   "name": "python",
   "nbconvert_exporter": "python",
   "pygments_lexer": "ipython3",
   "version": "3.9.5"
  }
 },
 "nbformat": 4,
 "nbformat_minor": 5
}
