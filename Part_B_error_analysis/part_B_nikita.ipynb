{
 "cells": [
  {
   "cell_type": "code",
   "execution_count": 6,
   "id": "45e4d232",
   "metadata": {},
   "outputs": [],
   "source": [
    "# Part B: Error analysis with checklist (13 points)"
   ]
  },
  {
   "cell_type": "code",
   "execution_count": null,
   "id": "3e71001c",
   "metadata": {},
   "outputs": [],
   "source": [
    "# Creating examples from existing datasets via perturbations (10.5 points)\n",
    "# Use a subset of the OLIDv1 test set, which contains 100 instances: \n",
    "# (olid-subset-diagnostic-tests.csv, can be found in the same directory) and run the following tests:"
   ]
  },
  {
   "cell_type": "code",
   "execution_count": 1,
   "id": "a241dc5c",
   "metadata": {},
   "outputs": [],
   "source": [
    "import pandas as pd"
   ]
  },
  {
   "cell_type": "code",
   "execution_count": 2,
   "id": "3355bffb",
   "metadata": {},
   "outputs": [],
   "source": [
    "data = pd.read_csv('C:/Users/Nikita/OneDrive/Desktop/Course_Materials/NLP/Assignments/Assignment2/offensive-language-detection/data/olid-subset-diagnostic-tests.csv')"
   ]
  },
  {
   "cell_type": "code",
   "execution_count": 3,
   "id": "350f0c6f",
   "metadata": {},
   "outputs": [
    {
     "data": {
      "text/html": [
       "<div>\n",
       "<style scoped>\n",
       "    .dataframe tbody tr th:only-of-type {\n",
       "        vertical-align: middle;\n",
       "    }\n",
       "\n",
       "    .dataframe tbody tr th {\n",
       "        vertical-align: top;\n",
       "    }\n",
       "\n",
       "    .dataframe thead th {\n",
       "        text-align: right;\n",
       "    }\n",
       "</style>\n",
       "<table border=\"1\" class=\"dataframe\">\n",
       "  <thead>\n",
       "    <tr style=\"text-align: right;\">\n",
       "      <th></th>\n",
       "      <th>id</th>\n",
       "      <th>text</th>\n",
       "      <th>labels</th>\n",
       "    </tr>\n",
       "  </thead>\n",
       "  <tbody>\n",
       "    <tr>\n",
       "      <th>0</th>\n",
       "      <td>89200</td>\n",
       "      <td>@USER @USER Who the hell does he think he is?</td>\n",
       "      <td>1</td>\n",
       "    </tr>\n",
       "    <tr>\n",
       "      <th>1</th>\n",
       "      <td>71294</td>\n",
       "      <td>#BREAKING. #Greece: Molotov cocktails fly afte...</td>\n",
       "      <td>1</td>\n",
       "    </tr>\n",
       "    <tr>\n",
       "      <th>2</th>\n",
       "      <td>55633</td>\n",
       "      <td>#OrrinHatch I can’t believe this sexist , clue...</td>\n",
       "      <td>1</td>\n",
       "    </tr>\n",
       "    <tr>\n",
       "      <th>3</th>\n",
       "      <td>16856</td>\n",
       "      <td>@USER @USER I'll use that one the next time im...</td>\n",
       "      <td>1</td>\n",
       "    </tr>\n",
       "    <tr>\n",
       "      <th>4</th>\n",
       "      <td>26072</td>\n",
       "      <td>0-1 lost my acca on the first fucking fight cba</td>\n",
       "      <td>1</td>\n",
       "    </tr>\n",
       "  </tbody>\n",
       "</table>\n",
       "</div>"
      ],
      "text/plain": [
       "      id                                               text  labels\n",
       "0  89200      @USER @USER Who the hell does he think he is?       1\n",
       "1  71294  #BREAKING. #Greece: Molotov cocktails fly afte...       1\n",
       "2  55633  #OrrinHatch I can’t believe this sexist , clue...       1\n",
       "3  16856  @USER @USER I'll use that one the next time im...       1\n",
       "4  26072    0-1 lost my acca on the first fucking fight cba       1"
      ]
     },
     "execution_count": 3,
     "metadata": {},
     "output_type": "execute_result"
    }
   ],
   "source": [
    "data.head()"
   ]
  },
  {
   "cell_type": "code",
   "execution_count": 32,
   "id": "b6818d15",
   "metadata": {},
   "outputs": [],
   "source": [
    "#pip install checklist"
   ]
  },
  {
   "cell_type": "code",
   "execution_count": 5,
   "id": "81d8ed41",
   "metadata": {},
   "outputs": [],
   "source": [
    "import nltk\n",
    "import checklist\n",
    "from checklist.editor import Editor\n",
    "from checklist.perturb import Perturb"
   ]
  },
  {
   "cell_type": "code",
   "execution_count": 7,
   "id": "d74b5aa5",
   "metadata": {},
   "outputs": [],
   "source": [
    "# 5. Typos (6 points) \n",
    "# Use checklist to add spelling variations (typos) to the subset (olid-subset-diagnostic-tests.csv) \n",
    "# and evaluate the model's performance on the perturbed data. \n",
    "# Use a fixed random seed (np.random.seed(42)) to facilitate comparison. "
   ]
  },
  {
   "cell_type": "code",
   "execution_count": 8,
   "id": "fa2aa0a1",
   "metadata": {},
   "outputs": [],
   "source": [
    "data_text = data['text']"
   ]
  },
  {
   "cell_type": "code",
   "execution_count": 20,
   "id": "465f75b2",
   "metadata": {},
   "outputs": [],
   "source": [
    "typo_text = Perturb.perturb(data_text, Perturb.add_typos)"
   ]
  },
  {
   "cell_type": "code",
   "execution_count": 31,
   "id": "d7c296c2",
   "metadata": {},
   "outputs": [],
   "source": [
    "#typo_text.data"
   ]
  },
  {
   "cell_type": "code",
   "execution_count": 26,
   "id": "1586c94a",
   "metadata": {},
   "outputs": [],
   "source": [
    "org_list = []\n",
    "typo_list = []\n",
    "i = 0\n",
    "for element in typo_text.data :\n",
    "    org_list.append(typo_text.data[i][0])\n",
    "    typo_list.append(typo_text.data[i][1])\n",
    "    i = i+1"
   ]
  },
  {
   "cell_type": "code",
   "execution_count": 29,
   "id": "62388326",
   "metadata": {},
   "outputs": [],
   "source": [
    "#org_list"
   ]
  },
  {
   "cell_type": "code",
   "execution_count": 30,
   "id": "d0c095b4",
   "metadata": {},
   "outputs": [],
   "source": [
    "#typo_list"
   ]
  },
  {
   "cell_type": "code",
   "execution_count": 18,
   "id": "4126bf87",
   "metadata": {},
   "outputs": [],
   "source": [
    "# Quantitative analysis: \n",
    "\n",
    "# ● Describe the differences in performance compared to the non-perturbed data (precision, recall, F1-score macro). (1 point)\n",
    "\n",
    "\n",
    "# ● How many messages were identified correctly in the original dataset, but erroneously after the perturbation? (1 point)\n",
    "\n"
   ]
  },
  {
   "cell_type": "code",
   "execution_count": 33,
   "id": "96d899d5",
   "metadata": {},
   "outputs": [],
   "source": [
    "# Qualitative analysis: \n",
    "\n",
    "#● Check the add_typos function in checklist pertub.py. How were the typos introduced? (1 point)\n",
    "\n",
    "#   -> Swaps characters of words to create typos\n",
    "\n",
    "#● Provide an example of a typo that cannot be produced by this function, but would play a role in offensive language detection. (0.5 points)\n",
    "\n",
    "#   -> Replacing a letter with another character, capitalizing certain letters, hyphenating the text, etc.\n",
    "\n",
    "#● Provide 3 examples when the model failed to assign the correct label after perturbation. (1 point)\n",
    "\n",
    "\n",
    "\n",
    "#● What is the main source of the erroneous predictions produced by the model (main source of errors caused by typos)? (1 point)\n",
    "\n",
    "\n",
    "\n",
    "#● How can the model be improved? (0.5 points)\n",
    "\n"
   ]
  },
  {
   "cell_type": "code",
   "execution_count": 34,
   "id": "366f1868",
   "metadata": {},
   "outputs": [],
   "source": [
    "# 6. Negation (4.5 points) Offensive language detection models have been shown to struggle with correctly classifying negated phrases such as “I don’t hate trans people” (Rottger et al., 2021; subsection 2.2).\n",
    "# Add negations to the subset and evaluate the model's performance on the perturbed data. \n"
   ]
  },
  {
   "cell_type": "code",
   "execution_count": 42,
   "id": "e8eece3a",
   "metadata": {},
   "outputs": [],
   "source": [
    "import spacy\n",
    "nlp = spacy.load('en_core_web_sm')"
   ]
  },
  {
   "cell_type": "code",
   "execution_count": 43,
   "id": "24782e6f",
   "metadata": {},
   "outputs": [],
   "source": [
    "pdata_text = list(nlp.pipe(data_text))"
   ]
  },
  {
   "cell_type": "code",
   "execution_count": 45,
   "id": "4938837d",
   "metadata": {},
   "outputs": [
    {
     "data": {
      "text/plain": [
       "[@USER @USER Who the hell does he think he is?,\n",
       " #BREAKING. #Greece: Molotov cocktails fly after protest honouring killed antifa arti... URL via @USER URL,\n",
       " #OrrinHatch I can’t believe this sexist , clueless, old fart gets to weigh in on another woman’s charges against a Supreme Court nominee. And he is spouting the same old nasty shit he spewed 20+ years ago against Anita Hill. His time’s up! Good riddance Neanderthal!,\n",
       " @USER @USER I'll use that one the next time im in a gun control debate or in a debate about free speech or taxes. Yes you can choose to be irresponsible or choose not to be. I argue responsible. Whats wrong with that? Don't justify murder by saying it was never alive or its my right.,\n",
       " 0-1 lost my acca on the first fucking fight cba,\n",
       " #Bakersfield is why we need gun control! Sorry for the victims other than the gunman himself I hope he rots in hell!,\n",
       " #Christian #America – If we go by #Trump’s example, where liberals support open borders, I guess conservatives support school shootings.   Please explain how this makes America great again.,\n",
       " @USER @USER @USER She is the most disingenuous person in the Senate. If she was my Senator I would hide in shame after her despicable behavior in the SCOTUS hearings.,\n",
       " #Democrats #Liberals you are being #threatened by #Armed #Nazis and you talk about #disarmament of yourselves and of #Disconnection from the #Military #Lifestyle ?  You should #broadcast your #Armory and #killSkills #RightFuckingNOW URL,\n",
       " 699. Just wanted to tell you you should Hang Out With Me More. i think it’ll be fun! Also, lmao dick for a tongue? So people can easily suck me off. HAHA kidding aside, i aint want a tongue as my dick that looks hella weird.. but my choice was weird to but WHATEVER,\n",
       " #LiberalHypocrisy #criminal #democrat #evidence #ellison #liberals #Hypocrites Keith Ellison domestic violence accuser says Democratic party doesn't believe her story  URL,\n",
       " (cr1tikal voice) smef my ass cheeks,\n",
       " *gets all the bitches*,\n",
       " #Antifa: Take note of how to protest with civility.   This is why socialism (aka communism) will never win. It is inherently evil and unsustainable. URL,\n",
       " @USER omg is he for real ?!?!!??????) this happened in peru like 40 years ago and the Inti devaluated so fucking much that they had to comoletely change the coin system because our money was worthless i-,\n",
       " #Conservatism101   It's not about our disagreements with #Conservatives. Its that Conservatives can't debate honestly, and they have no integrity. Whatever gets them thru today, is all that matters to them. They're fundamentally dishonest people. URL,\n",
       " @USER oh fuck off 😂😂,\n",
       " #Emmys  Well, most of those ex-crackheads are liberals and Democrats; so ...,\n",
       " #BCOG @USER she is cool, confident, cocky, and she kicks ass!!! @USER @USER @USER URL,\n",
       " And apparently I'm committed to going to a new level since I used the key.  Well FUCK.  Curiosity killed the Cat(hy),\n",
       " #Nigeria #Naija #9ja 'You are the most incompetent leader in Nigeria’s history' – Atiku blasts Buhari URL By championnewsng Via URL,\n",
       " @USER @USER @USER @USER Then why aren’t there so many shootings in Virginia?  Jacksonville shooter got his guns IN MARYLAND!! Among the poster children for gun control!  What good did that do?!  You’re full of crap.,\n",
       " @USER 'cause everyone knows a real leader falls into a van like a sack of potatoes.....,\n",
       " #BoycottNike campaign must continue and grow  Paying overseas staff $0.20 an hour is not okay because your staff is over there\".   You are exploiting poor women/men in the world.  This is more than Americans can stand. URL,\n",
       " #ANTIFA are bedfellows with The Democratic Socialists of America (DSA) who #JamesOKeefe has exposed as being inserted throughout government, attempting to bring down #America  #Trump #MAGA🇺🇸 #DeepState  URL,\n",
       " #LifeIsButepu when you have sex anytime you want but you are single,\n",
       " @USER Antifa has TS level influence. It's scary.,\n",
       " @USER I have three accounts. Two quasi-anonymous, and one completely anon. And if twitter ever bans one of the quasi-anon, I'll make two anon accounts and tweet the most insane shit. I will drown twitter in bullshit. If one of those is banned, I'll make even more.,\n",
       " #Feinstein you cant say anything truthful.  You are a loers and liar. URL,\n",
       " #Kavanaugh The moment #BlaseyFord is exposed as a fraud, expect a new accuser to surface. Liberals are a one trick pony. #LiberalismIsAMentalDisorder,\n",
       " @USER @USER @USER @USER Beats the hell NJ out of me lol. Dude already made the assumption that I'm antifa. He even ignored all the evidence to make that assumption.,\n",
       " #ConfirmKavanugh now, stall tactics are DC cronies only recourse. No more delays.  #VoteRed to end this madness and to #MAGA,\n",
       " #ArianaAsesina? Is that serious?! Holy shit, please your fucking assholes, don't blame someone for the death of other one. She is sad enough for today, don't you see? It isn't fault of none, he had an overdose and died. End. Stop wanting someone to blame, fuckers.,\n",
       " @USER How is she hiding her ugly personality. She is the worst.,\n",
       " $10 Million reallocated from FEMA to ICE. This guy gives zero shits about anyone not named Trump. If you’re in the mid Atlantic, get out. Now. URL,\n",
       " #Cuckservative Traitors Are Worse Than Fortnite Players URL #Conservatives #TriggerWarningRadio,\n",
       " #Conservatives Govt ' @USER made my life hell': whistleblowers say they were threatened by regulator; I thought this Govt promised to protect whistleblowers?  URL,\n",
       " #FortniteBattleRoyale #XboxShare @USER   Please ban this cheating scum.  he is literally invisible URL,\n",
       " All these sick ass ppl from school gave me something and now I have to chug down this nasty drink so it can go away🙃,\n",
       " #NEWS Jeff Sessions: If you want more death, 'listen to the ACLU, Antifa, Black Lives Matter'\" URL #CNBC\",\n",
       " #JoeScarborough is a vile excuse for a journalist\". Here he is criticizing #Trump yet refuses to come clean about the death of an intern in his office. Stop talking about everyone else and start talking about YOUR INVOLVEMENT WITH #LORIKLAUSUTIS. @USER,\n",
       " $1500 for a phone. You all are fucking dumb.,\n",
       " #MSNBC #Hardball @USER Bingo you are absolutely correct he cannot bring President Obama down. He can’t get over how President Obama humiliated him at the White House correspondents dinner and I can guarantee you that is a definite driver of his hate for President Obama,\n",
       " #crazyredhead in very #angry at the #orange #cheeto  Who claims to be our #president .  She will never accept it.  Denying all the lives lost in Puerto Rico? He is a #monster #… URL,\n",
       " #SesameStreet #BertandErnie the conversation about this is so unattractive. The creator says he didn't create a character gay and he is being attacked.,\n",
       " @USER I BET she is a lot safer when she has sex now tho ? Or she wouldn’t have just one but a few kids . Why cant moms get dicked down too ?,\n",
       " #FemiNazis are Liberals so #MeToo only counts when they blame a non-Liberal man. #Bizarro  #KAG2018 ❤️🇺🇸 URL,\n",
       " Amazon will ship live Christmas trees to your door — but will they stay and put on the damn lights? URL,\n",
       " . JEFF SESSIONS: ‘LISTEN TO THE ACLU, ANTIFA, BLACK LIVES MATTER’ IF YOU WANT MORE CHICAGO SHOOTINGS  . URL,\n",
       " #SerenaWilliams is so full of herself...she is just as painful to watch as to listen to...,\n",
       " #BecauseOfTories we have the lowest youth unemployment since records began 👏🏼  URL,\n",
       " #MAGA #Kavanaugh #DrainTheDeepState @USER   I'd like to see @USER interviewed again. In his book ALL OUT WAR he laid out a lot that is happening today. ✓DC Secret Resistance Society ✓ANTIFA ✓ A White House meeting. Be interesting to hear him 2 yrs after Bk. URL,\n",
       " #SandraOh is dressed like the queen she is tonight! We salute you, you Canadian Goddess! Let's hope you win for #KillingEve. #EmmyAwards URL,\n",
       " @USER WWE considers Raw the bigger show and having Ronda later in the PPV shows she is a bigger nane,\n",
       " #StayOnYourPath #HealthQuote If you are wishing to loose fat, get back your wellbeing and slow down or reverse the aging process then check this super powerful natural method URL URL,\n",
       " #SomethingIsAboutToHappen And here goes his bottle on the floor, with water dripping from it.  She just snapped as he was trying to cool her down. She is pissed at something for sure.  Stay tuned.,\n",
       " #FakeNews like @USER and @USER will gloss over this today thanks to the #ChristineBlaseyFord circus act. #ConfirmJudgeKavanaughNow so we can get back to triggering liberals by talking about @USER ‘s success. 🙌🏻 URL,\n",
       " #Capitalism may be undermined by the displacement of menial laborers by #AI   should conservatives therefore inoculate themselves against knee-jerk reactionism against the notion of the living wage\"?  #economics #marxism #marx #robotics #communism #socialism #socialismkills\",\n",
       " #California Tries New Tack on #Gun #Violence : #Bullet #control - The New York Times #activist ⁦@USER ⁦@USER ⁦@USER ⁦@USER ⁦@USER  URL,\n",
       " #eminem he could've gone harder but he didn't have to reason  why he is the RapGod he is one of the best lyricist in the game. Lot of people talk smack about him because they will never be him.  @USER URL,\n",
       " #CTRiders Hope you are enjoying your Friday! If you're looking for a way to enjoy this nice weather this weekend, September is #ReadANewBookMonth and there is nothing like reading a new book on a patio with a nice cup of coffee :) Anyone ready anything interesting this month? URL,\n",
       " 1) Wow, safe sex! That's hot! We love a butch top who also receives! URL,\n",
       " ...ANTIFA men\" get themselves riled up before a big Anti Trump rally by playing the theme song from the Wonder Woman movie on repeat. Or was it Power ⚡️Rangers?! 🤔 URL,\n",
       " #BrettKavanaugh   ... but anyway, there is the matter of a replacement for Justice Kennedy here, but the bigger one is of conservatives fortifying the SCOTUS majority for decades to come against libs who are no longer hiding desire to directly attack the Bill of Rights....,\n",
       " #TEAM4THEBEEZ PLEASE SHARE THIS PUP DID NOTHING EXCEPT HIS OWNER DIED AND HE WAS #DUMPED2DIE AT SHELTER HE IS IN GRIEF FOR HIS OWNER AND TERRIFIED IN NOISY SHELTER PLEASE #NOKILLSHELTERNATION IS WHAT WE NEED BUT LETS FIND THIS POOR PUP A #HEROES2ANIMALS URL,\n",
       " #MeetTheSpeakers 🙌 @USER will present in our event OIW 2018: Finpact - Global Impact through Financial Technologies. She is Senior Advisor Group Sustainable Finance and worked on green energy and climate risk. Join us to meet Thina URL #oiw2018 URL,\n",
       " #WednesdayWisdom Antifa calls the right fascist when, in all reality, they and the left are following the same scenario as the Third Reich: indoctrination of our youth, trying to control minorities and a total lack of understanding or knowledge of history.  #WalkAway,\n",
       " @USER u put a privileged NFL player in ur ad for 30th anniv that has sacrificed nothing he is still rich &amp;  has his life. Tom Burnett a passenger on doom flight 93 told his wife WE CAN DO IT. He &amp; others sacrificed everything! Gave their life to save others! That is everything,\n",
       " ? Tickets for #htafc's away match against #WatfordFC will go on sale to supporters with 270+ Priority Points on Monday 2… URL,\n",
       " #ARSYoungjaeDay HAPPY BIRTHDAY CHOI YOUNGJAE 😭😭😭 with vocals of a god and a contagious laughter, he is the most beautiful man!!! i could never feel sad whenever i see an img of him or just a snippet of him in a video, he always brightens my day. the last img is me when i saw URL,\n",
       " @USER Gun control takes guns out of law abiding citizens that’s it,\n",
       " #antifa #Resist.. Trump is trying to bring world peace, not obstruct like the democrats..  is this good for you also? or haters gonna hate? URL,\n",
       " @USER @USER She is an advocate and model for natural beauty.,\n",
       " #MAGA #KavanaughConfirmationHearings postponing votes WELL LETS DO THE SAME OPEN THE HUSH FUND BOOKS NOW URL,\n",
       " #TickTock If she is not formally charged for mishandling sensitive material we will have no choice but to release proof that she is guilty of high treason against the United States for selling patented military secrets to the Saudi Arabian government. URL,\n",
       " #BacktheBlue.  Jeff Sessions: ‘Listen To The ACLU, Antifa, Black Lives Matter’ If You Want More Chicago Shootings URL via @USER,\n",
       " #TipOfTheDay If you are giving #coffee as a gift / part of a gift, make sure to ask for an airtight container or valve-sealed bag. The tin-ties are cute but won't preserve the coffee past a week.  Join our mailing list for more tips, facts, and coffee news URL URL,\n",
       " #Arizona #Tennessee  #Alaska #SC  As soon as these RINOS (aka liberals) are up for reelection vote them out!   #DrainTheSwamp 💥 URL,\n",
       " #Affirmativeaction to #Affirmativehate. #Altleft wants Law prof fired for pointing out poor performance of unqualified admits. URL #tcot #Conservatives #Law #Lawyers #Lawdean #LawProf #UPenn #AltLeft #Highered #ABA #HigherEducation #AcademicTwitter,\n",
       " #LisaxMichaelKors  she is soo beautifull,\n",
       " #CollegeFootball  2021 6'7 285 DT/OL Gallatin, TN URL \"just turned 15 yrs old Aug 1st 2018\" \"Above average movement\" \"He is a Dog\" #SEC #PAC12 #BIG12 #BIG10 URL,\n",
       " @USER @USER Then we agree. Common ground.  And I don't like the Bushes.  Particularly HW.  URL,\n",
       " .@USER ‘Listen To The #ACLU, #Antifa, #BlackLivesMatter’ If You Want More Chicago Shootings URL via @USER  #Sessions,\n",
       " @USER I guess that’s where swamp ass originated,\n",
       " #FeelsGoodGirl @USER @USER  you should be proud at her she is amazing in gambit URL,\n",
       " @USER @USER @USER @USER Go with @USER Jeans. I've been wearing Wranglers over 25 yrs now. Ever since I found Levis contributed  heavily to Gun Control Groups &amp; Gun Grabbing Politicians back in the 1990s.,\n",
       " @USER #MAGA who cares about the farm.  He had no reason to commit murder. End of story.,\n",
       " #SundayShoutOuts to @USER because.... Because she is amazing and has my boundless support and endless appreciation for her support in return, it's just a loop of love and respect… URL,\n",
       " #2A. The stuff some of these people say amazes me. They do not get we already have gun control. Take a look at what happens to all the people arrested on gun charges each weekend in Chicago. Most of them are given a slap on the wrist. #NRA URL,\n",
       " #Conservatives are always revolting URL,\n",
       " @USER He is off the deep end. This calls for an intervention,\n",
       " $500 Million Funding Competition for US cities That’s nice. ⁦@USER  URL,\n",
       " #CarolineForbes You are needed to help with the posted SL. DM me to Audition.,\n",
       " @USER She Is A ChiCom Spy..... #ClubGITMO,\n",
       " #Repost @USER ・・・ We can’t forget to give props to Naomi Osaka!! 🏆🎾 She played against her idol and won. In someways the win has been overshadowed, but she is so humbled in her… URL,\n",
       " @USER He is obviously getting suspended. He is not an asset for anyone,\n",
       " #Canada - EXCLUSIVE: #Trudeau #Liberals leave $372M meant to help veterans unspent since taking office URL,\n",
       " @USER @USER ...than why did you show us how hot she is ?,\n",
       " @USER @USER @USER You have yet to answer what *realistically enforceable* gun control law would *prevent* the tragedies without violating Due Process and HIPAA...,\n",
       " #MAGA  ... got any ideas how she could have done it? URL]"
      ]
     },
     "execution_count": 45,
     "metadata": {},
     "output_type": "execute_result"
    }
   ],
   "source": [
    "pdata_text"
   ]
  },
  {
   "cell_type": "code",
   "execution_count": 44,
   "id": "c4a7b2c6",
   "metadata": {},
   "outputs": [
    {
     "ename": "IndexError",
     "evalue": "list index out of range",
     "output_type": "error",
     "traceback": [
      "\u001b[1;31m---------------------------------------------------------------------------\u001b[0m",
      "\u001b[1;31mIndexError\u001b[0m                                Traceback (most recent call last)",
      "Input \u001b[1;32mIn [44]\u001b[0m, in \u001b[0;36m<cell line: 1>\u001b[1;34m()\u001b[0m\n\u001b[1;32m----> 1\u001b[0m negation_text \u001b[38;5;241m=\u001b[39m \u001b[43mPerturb\u001b[49m\u001b[38;5;241;43m.\u001b[39;49m\u001b[43mperturb\u001b[49m\u001b[43m(\u001b[49m\u001b[43mpdata_text\u001b[49m\u001b[43m,\u001b[49m\u001b[43m \u001b[49m\u001b[43mPerturb\u001b[49m\u001b[38;5;241;43m.\u001b[39;49m\u001b[43madd_negation\u001b[49m\u001b[43m)\u001b[49m\n",
      "File \u001b[1;32m~\\anaconda3\\lib\\site-packages\\checklist\\perturb.py:79\u001b[0m, in \u001b[0;36mPerturb.perturb\u001b[1;34m(data, perturb_fn, keep_original, nsamples, *args, **kwargs)\u001b[0m\n\u001b[0;32m     77\u001b[0m     t\u001b[38;5;241m.\u001b[39mappend(org)\n\u001b[0;32m     78\u001b[0m     add\u001b[38;5;241m.\u001b[39mappend(\u001b[38;5;28;01mNone\u001b[39;00m)\n\u001b[1;32m---> 79\u001b[0m p \u001b[38;5;241m=\u001b[39m \u001b[43mperturb_fn\u001b[49m\u001b[43m(\u001b[49m\u001b[43md\u001b[49m\u001b[43m,\u001b[49m\u001b[43m \u001b[49m\u001b[38;5;241;43m*\u001b[39;49m\u001b[43margs\u001b[49m\u001b[43m,\u001b[49m\u001b[43m \u001b[49m\u001b[38;5;241;43m*\u001b[39;49m\u001b[38;5;241;43m*\u001b[39;49m\u001b[43mkwargs\u001b[49m\u001b[43m)\u001b[49m\n\u001b[0;32m     80\u001b[0m a \u001b[38;5;241m=\u001b[39m []\n\u001b[0;32m     81\u001b[0m x \u001b[38;5;241m=\u001b[39m []\n",
      "File \u001b[1;32m~\\anaconda3\\lib\\site-packages\\checklist\\perturb.py:261\u001b[0m, in \u001b[0;36mPerturb.add_negation\u001b[1;34m(doc)\u001b[0m\n\u001b[0;32m    259\u001b[0m \u001b[38;5;28;01mif\u001b[39;00m \u001b[38;5;28mlen\u001b[39m(sentence) \u001b[38;5;241m<\u001b[39m \u001b[38;5;241m3\u001b[39m:\n\u001b[0;32m    260\u001b[0m     \u001b[38;5;28;01mcontinue\u001b[39;00m\n\u001b[1;32m--> 261\u001b[0m root_id \u001b[38;5;241m=\u001b[39m \u001b[43m[\u001b[49m\u001b[43mx\u001b[49m\u001b[38;5;241;43m.\u001b[39;49m\u001b[43mi\u001b[49m\u001b[43m \u001b[49m\u001b[38;5;28;43;01mfor\u001b[39;49;00m\u001b[43m \u001b[49m\u001b[43mx\u001b[49m\u001b[43m \u001b[49m\u001b[38;5;129;43;01min\u001b[39;49;00m\u001b[43m \u001b[49m\u001b[43msentence\u001b[49m\u001b[43m \u001b[49m\u001b[38;5;28;43;01mif\u001b[39;49;00m\u001b[43m \u001b[49m\u001b[43mx\u001b[49m\u001b[38;5;241;43m.\u001b[39;49m\u001b[43mdep_\u001b[49m\u001b[43m \u001b[49m\u001b[38;5;241;43m==\u001b[39;49m\u001b[43m \u001b[49m\u001b[38;5;124;43m'\u001b[39;49m\u001b[38;5;124;43mROOT\u001b[39;49m\u001b[38;5;124;43m'\u001b[39;49m\u001b[43m]\u001b[49m\u001b[43m[\u001b[49m\u001b[38;5;241;43m0\u001b[39;49m\u001b[43m]\u001b[49m\n\u001b[0;32m    262\u001b[0m root \u001b[38;5;241m=\u001b[39m doc[root_id]\n\u001b[0;32m    263\u001b[0m \u001b[38;5;28;01mif\u001b[39;00m \u001b[38;5;124m'\u001b[39m\u001b[38;5;124m?\u001b[39m\u001b[38;5;124m'\u001b[39m \u001b[38;5;129;01min\u001b[39;00m sentence\u001b[38;5;241m.\u001b[39mtext \u001b[38;5;129;01mand\u001b[39;00m sentence[\u001b[38;5;241m0\u001b[39m]\u001b[38;5;241m.\u001b[39mtext\u001b[38;5;241m.\u001b[39mlower() \u001b[38;5;241m==\u001b[39m \u001b[38;5;124m'\u001b[39m\u001b[38;5;124mhow\u001b[39m\u001b[38;5;124m'\u001b[39m:\n",
      "\u001b[1;31mIndexError\u001b[0m: list index out of range"
     ]
    }
   ],
   "source": [
    "negation_text = Perturb.perturb(pdata_text, Perturb.add_negation)"
   ]
  },
  {
   "cell_type": "code",
   "execution_count": null,
   "id": "047ff6cd",
   "metadata": {},
   "outputs": [],
   "source": [
    "# Qualitative analysis: \n",
    "# ● Check the add_negation function in checklist pertub.py. What kind of negations does it produce? (1 point)\n",
    "\n",
    "# ● Look at the created negated sentences, are they linguistically correct? Provide 2–5 examples of linguistically incorrect \n",
    "# sentences. (1 point)\n",
    "\n",
    "# ● Check the first 10 negated messages. For which of these negated messages should the label be flipped, in your opinion?(1 point)\n",
    "\n",
    "\n",
    "# ● Provide 2 examples when the model correctly assigned the opposite label after perturbation \n",
    "# and 2 examples when the model failed to identify negation. Fill in the table below (1 point)\n",
    "\n",
    "\n"
   ]
  }
 ],
 "metadata": {
  "kernelspec": {
   "display_name": "Python 3 (ipykernel)",
   "language": "python",
   "name": "python3"
  },
  "language_info": {
   "codemirror_mode": {
    "name": "ipython",
    "version": 3
   },
   "file_extension": ".py",
   "mimetype": "text/x-python",
   "name": "python",
   "nbconvert_exporter": "python",
   "pygments_lexer": "ipython3",
   "version": "3.8.8"
  }
 },
 "nbformat": 4,
 "nbformat_minor": 5
}
